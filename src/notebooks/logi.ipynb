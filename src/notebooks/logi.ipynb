{
 "cells": [
  {
   "cell_type": "code",
   "execution_count": 11,
   "metadata": {},
   "outputs": [
    {
     "name": "stdout",
     "output_type": "stream",
     "text": [
      "Job HighlightsHMO with dependent & life insuranceGreat working environment with work-life balanceFun & engaging company-sponsored eventsJob DescriptionAre you looking for a 100% non-voice account? Join our dynamic team now as an Email & Back Office Support!JOB OBJECTIVEDeliver exceptional customer support primarily through email and chat.ESSENTIAL JOB FUNCTIONSEnsure all customers receive the highest level of service by answering inquiries and resolving issues, primarily through email and chat.Perform back-office tasks to complete customer concerns and requests with attention to detail and efficiency.Collaborate and work effectively with other team members to achieve the best results for all customer-related requests.Oversee the dedicated voicemail for concierge to process its incoming requests.SKILLS & QUALIFICATIONSBachelors/College Degree in any field; IT-related course is preferred.Must have at least 1 year of experience in the BPO industry handling an international account.Required experience in handling an account using chat and/or email channelsKnowledge in HTML, CSS, and Photoshop is a huge plus.Must have good writing and speaking skills in English.Willing to work night shifts.Additional InformationCareer Level1-4 Years Experienced EmployeeQualificationHigh School Diploma, Vocational Diploma/Short Course Certificate, Bachelor's/College DegreeYears of Experience1 yearJob TypeFull-TimeJob SpecializationsServices, Customer ServiceCompany Overview\n",
      "Transec is a BPO company headquartered in Ortigas, Metro Manila. We specialize on high value small to medium sized businesses both local and international. Our growing company has been lucky enough to work with a variety of clients through our outsourcing solutions in customer service, technical support, data entry and processing, quality assurance, and more back office functions.\n",
      "\n",
      "\tOur strategies, talent workforce and company culture are nothing but flexible and agile. Having a core team with decades of combined experience in both the Philippine talent market and western business practices, we’ve become a seamless extension of many forward-thinking organizations.\n",
      "\n",
      "\tAt Transec, finding great people and simplifying processes are things we work hard for. We rely on every member of our amazing team to live by our corporate culture of integrity, results-oriented, innovation, self-improvement and real teamwork.Additional Company InformationRegistration No.CS201519658Company Size1 - 50 EmployeesAverage Processing Time1 dayIndustryCall Center/IT-Enabled Services/BPOBenefits & OthersDental, Miscellaneous allowance, Medical, Vision, Attendance Bonus, Performance Incentives, Company Sponsored Events, Smart Casual, 24/7Company photos1/10Go Team Transec!\n"
     ]
    }
   ],
   "source": [
    "from bs4 import BeautifulSoup\n",
    "from selenium import webdriver\n",
    "from selenium.webdriver.chrome.options import Options\n",
    "\n",
    "\n",
    "chrome_options = Options()\n",
    "chrome_options.add_argument('--headless')  # Run Chrome in headless mode\n",
    "chrome_options.add_argument('--disable-gpu')  # Disable GPU acceleration\n",
    "driver = webdriver.Chrome(options=chrome_options)\n",
    "driver.get(\"https://www.jobstreet.com.ph/en/job/email-back-office-support-%E2%80%A2-100-non-voice-13010943?jobId=jobstreet-ph-job-13010943&sectionRank=1&token=0~9ee2dedf-cbd9-40ef-a54d-a685e46f2e7a&searchPath=%2Fjobs&fr=SRP%20View%20In%20New%20Tab\")\n",
    "driver.implicitly_wait(10)\n",
    "desc = BeautifulSoup(driver.page_source, 'html.parser')\n",
    "job_desc = desc.select_one(\"div.z1s6m00._1hbhsw66y._1hbhsw673._1hbhsw674._1hbhsw682._1hbhsw687._1hbhsw688._1hbhsw69q._1hbhsw68m.y44q7i18.y44q7i1b._1hbhsw632._1hbhsw635\")\n",
    "print(job_desc.text)"
   ]
  }
 ],
 "metadata": {
  "kernelspec": {
   "display_name": "env",
   "language": "python",
   "name": "python3"
  },
  "language_info": {
   "codemirror_mode": {
    "name": "ipython",
    "version": 3
   },
   "file_extension": ".py",
   "mimetype": "text/x-python",
   "name": "python",
   "nbconvert_exporter": "python",
   "pygments_lexer": "ipython3",
   "version": "3.10.11"
  },
  "orig_nbformat": 4
 },
 "nbformat": 4,
 "nbformat_minor": 2
}
